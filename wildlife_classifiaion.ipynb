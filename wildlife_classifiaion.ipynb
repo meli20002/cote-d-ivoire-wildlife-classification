{
 "cells": [
  {
   "cell_type": "code",
   "execution_count": 36,
   "id": "860d977a",
   "metadata": {},
   "outputs": [],
   "source": [
    "import os \n",
    "import matplotlib\n",
    "import matplotlib.pyplot as plt\n",
    "import numpy as np\n",
    "import pandas as pd \n",
    "import PIL\n",
    "import torch\n",
    "import torch.nn as nn\n",
    "import torch.optim as optim\n",
    "import torchvision\n",
    "from torchvision import datasets,transforms\n",
    "from torch.utils.data import DataLoader,random_split\n",
    "import shutil "
   ]
  },
  {
   "cell_type": "code",
   "execution_count": 2,
   "id": "c4c61294",
   "metadata": {},
   "outputs": [
    {
     "name": "stdout",
     "output_type": "stream",
     "text": [
      "---\n",
      "matplotlib version: 3.9.2\n",
      "pandas version: 2.3.1\n",
      "PIL version: 10.4.0\n",
      "torch version: 2.8.0+cpu\n",
      "torchvision version: 0.23.0+cpu\n",
      "---\n"
     ]
    }
   ],
   "source": [
    "\n",
    "print(\"---\")\n",
    "print(\"matplotlib version:\", matplotlib.__version__)\n",
    "print(\"pandas version:\", pd.__version__)\n",
    "print(\"PIL version:\", PIL.__version__)\n",
    "print(\"torch version:\", torch.__version__)\n",
    "print(\"torchvision version:\", torchvision.__version__)\n",
    "\n",
    "print(\"---\")"
   ]
  },
  {
   "cell_type": "code",
   "execution_count": 3,
   "id": "bbe8393c",
   "metadata": {},
   "outputs": [
    {
     "name": "stdout",
     "output_type": "stream",
     "text": [
      "Using cpu device.\n"
     ]
    }
   ],
   "source": [
    "if torch.cuda.is_available():\n",
    "    device = \"cuda\"\n",
    "elif torch.backends.mps.is_available():\n",
    "    device = \"mps\"\n",
    "else:\n",
    "    device = \"cpu\"\n",
    "\n",
    "print(f\"Using {device} device.\")"
   ]
  },
  {
   "cell_type": "code",
   "execution_count": 17,
   "id": "b38c2d5b",
   "metadata": {},
   "outputs": [],
   "source": [
    "class convertToRGB:\n",
    "\n",
    "    def __call__(self,image):\n",
    "      if image.mode != \"RGB\":\n",
    "        image=image.convert(\"RGB\")\n",
    "      return image"
   ]
  },
  {
   "cell_type": "code",
   "execution_count": 10,
   "id": "ea7e5879",
   "metadata": {},
   "outputs": [],
   "source": [
    "train_dir=os.path.join(\"data\",\"train_features\")\n",
    "test_dir=os.path.join('data','train_features')\n",
    "\n",
    "df=pd.read_csv('data/train_labels.csv')"
   ]
  },
  {
   "cell_type": "code",
   "execution_count": 11,
   "id": "a657f831",
   "metadata": {},
   "outputs": [],
   "source": [
    "categories = [\n",
    "    'monkey_prosimian',\n",
    "    'antelope_duiker',\n",
    "    'civet_genet',\n",
    "    'leopard',\n",
    "    'blank',\n",
    "    'rodent',\n",
    "    'bird',\n",
    "    'hog'\n",
    "]"
   ]
  },
  {
   "cell_type": "code",
   "execution_count": 12,
   "id": "caa34f03",
   "metadata": {},
   "outputs": [],
   "source": [
    "for category in categories:\n",
    "    os.makedirs(os.path.join(train_dir, category), exist_ok=True)\n",
    "\n",
    "def org_images(image_dir,df,categories):\n",
    "  moved_count=0\n",
    "  skipped_count=0\n",
    "\n",
    "  for image_file in os.listdir(image_dir):\n",
    "    image_path=os.path.join(image_dir,image_file)\n",
    "    if os.path.isdir(image_path):\n",
    "       continue\n",
    "\n",
    "    image_name=os.path.splitext(image_file)[0]\n",
    "\n",
    "    if image_name not in df['id'].values:\n",
    "      skipped_count +=1\n",
    "      continue\n",
    "\n",
    "    image_row=df[df['id']==image_name].iloc[0]\n",
    "    category_found=None\n",
    "\n",
    "\n",
    "    for category in categories:\n",
    "      if image_row[category]==1.0:\n",
    "        category_found=category\n",
    "        break\n",
    "\n",
    "    if category_found:\n",
    "      dest_path=os.path.join(train_dir,category_found,image_file)\n",
    "      shutil.move(image_path,dest_path)\n",
    "      moved_count+=1\n",
    "    else:\n",
    "      skipped_count += 1\n",
    "\n",
    "  return moved_count,skipped_count"
   ]
  },
  {
   "cell_type": "code",
   "execution_count": 13,
   "id": "312c1da8",
   "metadata": {},
   "outputs": [
    {
     "name": "stdout",
     "output_type": "stream",
     "text": [
      "moved count :5331\n",
      "skpped count:1\n"
     ]
    }
   ],
   "source": [
    "moved_count,skipped_count=org_images(train_dir,df,categories)\n",
    "print(f\"moved count :{moved_count}\")\n",
    "print(f\"skpped count:{skipped_count}\")\n"
   ]
  },
  {
   "cell_type": "code",
   "execution_count": 23,
   "id": "5f3d4b8e",
   "metadata": {},
   "outputs": [],
   "source": [
    "transform=transforms.Compose(\n",
    "    [\n",
    "        convertToRGB(),\n",
    "        transforms.Resize((224,224)),\n",
    "        transforms.ToTensor(),\n",
    "        \n",
    "    ]\n",
    ")"
   ]
  },
  {
   "cell_type": "code",
   "execution_count": 24,
   "id": "ada133d2",
   "metadata": {},
   "outputs": [],
   "source": [
    "train_dataset=datasets.ImageFolder(train_dir,transform=transform)"
   ]
  },
  {
   "cell_type": "code",
   "execution_count": 25,
   "id": "67e01041",
   "metadata": {},
   "outputs": [],
   "source": [
    "dataset_loader=DataLoader(train_dataset,batch_size=32)"
   ]
  },
  {
   "cell_type": "code",
   "execution_count": 26,
   "id": "3f1aa632",
   "metadata": {},
   "outputs": [],
   "source": [
    "def get_mean_std(dataloader):\n",
    "    channel_sum,channels_squared_sum,num_batches=0,0,0\n",
    "    for data,_ in dataloader:\n",
    "        channel_sum +=torch.mean(data,dim=[0,2,3])\n",
    "        channels_squared_sum += torch.mean(data ** 2,dim=[0,2,3])\n",
    "        num_batches +=1\n",
    "    mean=channel_sum/num_batches\n",
    "    std=(channels_squared_sum/num_batches - mean**2)**0.5\n",
    "    return mean,std"
   ]
  },
  {
   "cell_type": "code",
   "execution_count": 27,
   "id": "23996e8c",
   "metadata": {},
   "outputs": [],
   "source": [
    "mean,std=get_mean_std(dataset_loader)"
   ]
  },
  {
   "cell_type": "code",
   "execution_count": 30,
   "id": "e6150584",
   "metadata": {},
   "outputs": [],
   "source": [
    "transform_norm=transforms.Compose(\n",
    "    [\n",
    "        convertToRGB(),\n",
    "        transforms.Resize((224,224)),\n",
    "        transforms.ToTensor(),\n",
    "        transforms.Normalize(mean=mean,std=std)\n",
    "        \n",
    "    ]\n",
    ")"
   ]
  },
  {
   "cell_type": "code",
   "execution_count": 31,
   "id": "156ab4b7",
   "metadata": {},
   "outputs": [],
   "source": [
    "train_dataset=datasets.ImageFolder(train_dir,transform=transform_norm)\n",
    "train_loader=DataLoader(train_dataset,batch_size=32)"
   ]
  },
  {
   "cell_type": "markdown",
   "id": "15e9af72",
   "metadata": {},
   "source": [
    "## the CNN model"
   ]
  },
  {
   "cell_type": "code",
   "execution_count": 37,
   "id": "a70bb531",
   "metadata": {},
   "outputs": [],
   "source": [
    "g=torch.Generator()\n",
    "g.manual_seed(42)\n",
    "train_dataset,val_dataset=random_split(train_dataset,[0.8,0.2])\n"
   ]
  },
  {
   "cell_type": "code",
   "execution_count": 38,
   "id": "a681ea5b",
   "metadata": {},
   "outputs": [
    {
     "name": "stdout",
     "output_type": "stream",
     "text": [
      "Shape of one batch: torch.Size([32, 3, 224, 224])\n"
     ]
    }
   ],
   "source": [
    "\n",
    "train_loader = DataLoader(train_dataset,batch_size=32)\n",
    "\n",
    "val_loader = DataLoader(val_dataset,batch_size=32)\n",
    "\n",
    "single_batch = next(iter(train_loader))[0]\n",
    "print(f\"Shape of one batch: {single_batch.shape}\")"
   ]
  },
  {
   "cell_type": "markdown",
   "id": "1c406455",
   "metadata": {},
   "source": [
    "## the model"
   ]
  },
  {
   "cell_type": "code",
   "execution_count": null,
   "id": "e07bc671",
   "metadata": {},
   "outputs": [],
   "source": [
    "class CNNmodel(nn.Module):\n",
    "    def __init__(self, *args, **kwargs):\n",
    "        super().__init__()"
   ]
  }
 ],
 "metadata": {
  "kernelspec": {
   "display_name": "Python 3",
   "language": "python",
   "name": "python3"
  },
  "language_info": {
   "codemirror_mode": {
    "name": "ipython",
    "version": 3
   },
   "file_extension": ".py",
   "mimetype": "text/x-python",
   "name": "python",
   "nbconvert_exporter": "python",
   "pygments_lexer": "ipython3",
   "version": "3.12.5"
  }
 },
 "nbformat": 4,
 "nbformat_minor": 5
}
